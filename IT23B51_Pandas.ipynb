{
 "cells": [
  {
   "cell_type": "code",
   "execution_count": 1,
   "id": "80ec3efa-8664-423c-b3db-defe3216615e",
   "metadata": {},
   "outputs": [],
   "source": [
    "import pandas as pd"
   ]
  },
  {
   "cell_type": "code",
   "execution_count": 2,
   "id": "c5eabd5e-d7c3-4401-bc8f-be28dda55118",
   "metadata": {},
   "outputs": [
    {
     "name": "stdout",
     "output_type": "stream",
     "text": [
      "2.1.4\n"
     ]
    }
   ],
   "source": [
    "#check version\n",
    "print(pd.__version__)"
   ]
  },
  {
   "cell_type": "code",
   "execution_count": 7,
   "id": "2b9cb838-b24d-4d86-91d7-3970225c0ff7",
   "metadata": {},
   "outputs": [
    {
     "name": "stdout",
     "output_type": "stream",
     "text": [
      "0    1\n",
      "1    2\n",
      "2    3\n",
      "3    4\n",
      "4    5\n",
      "dtype: int64\n"
     ]
    }
   ],
   "source": [
    "#find the index and give a specific name\n",
    "a=[1,2,3,4,5]\n",
    "s1=pd.Series(a,index=[\"i1\",\"i2\",\"i3\",\"i4\",\"i5\"])\n",
    "print(s1)"
   ]
  },
  {
   "cell_type": "code",
   "execution_count": 9,
   "id": "0ee7fd18-efce-42a4-b4e8-17ad73ee62a4",
   "metadata": {},
   "outputs": [
    {
     "name": "stdout",
     "output_type": "stream",
     "text": [
      "3\n"
     ]
    }
   ],
   "source": [
    "a=[1,2,3,4,5]\n",
    "s1=pd.Series(a,index=[\"i1\",\"i2\",\"i3\",\"i4\",\"i5\"])\n",
    "print(s1[\"i3\"])"
   ]
  },
  {
   "cell_type": "code",
   "execution_count": 10,
   "id": "bf023af6-9d1d-4f1a-989d-1fd38c6ac016",
   "metadata": {},
   "outputs": [
    {
     "name": "stdout",
     "output_type": "stream",
     "text": [
      "AIMI    4\n",
      "CCN     4\n",
      "WS      3\n",
      "CS      4\n",
      "dtype: int64\n"
     ]
    }
   ],
   "source": [
    "keyVal={\"AIMI\":4,\"CCN\":4,\"WS\":3,\"CS\":4}\n",
    "sKeyVal=pd.Series(keyVal)\n",
    "print(sKeyVal)"
   ]
  },
  {
   "cell_type": "code",
   "execution_count": 11,
   "id": "ba1a9833-8190-415a-872e-1fa947f253ad",
   "metadata": {},
   "outputs": [
    {
     "name": "stdout",
     "output_type": "stream",
     "text": [
      "student    [aiml, ccn, ws, cs]\n",
      "marks         [90, 89, 70, 99]\n",
      "dtype: object\n"
     ]
    }
   ],
   "source": [
    "student={\"student\":[\"aiml\",\"ccn\",\"ws\",\"cs\"],\n",
    "         \"marks\":[90,89,70,99]}\n",
    "sStud=pd.Series(student)\n",
    "print(sStud)"
   ]
  },
  {
   "cell_type": "code",
   "execution_count": 13,
   "id": "682b5f4a-cdae-4d7d-a42a-bcfdc638c37d",
   "metadata": {},
   "outputs": [
    {
     "name": "stdout",
     "output_type": "stream",
     "text": [
      "  student  marks\n",
      "0    aiml     90\n",
      "1     ccn     89\n",
      "2      ws     70\n",
      "3      cs     99\n"
     ]
    }
   ],
   "source": [
    "#give a data in row and column format\n",
    "student={\"student\":[\"aiml\",\"ccn\",\"ws\",\"cs\"],\n",
    "         \"marks\":[90,89,70,99]}\n",
    "sStud=pd.DataFrame(student)\n",
    "print(sStud)"
   ]
  },
  {
   "cell_type": "code",
   "execution_count": 16,
   "id": "7aafe84b-1677-4db8-99c3-cb7c2ce1a31a",
   "metadata": {},
   "outputs": [
    {
     "name": "stdout",
     "output_type": "stream",
     "text": [
      "student    aiml\n",
      "marks        90\n",
      "Name: 0, dtype: object\n"
     ]
    }
   ],
   "source": [
    "print(sStud.loc[0])"
   ]
  },
  {
   "cell_type": "code",
   "execution_count": 36,
   "id": "4b4b14fe-f6a4-41a5-84cc-042e9d41944b",
   "metadata": {},
   "outputs": [
    {
     "name": "stdout",
     "output_type": "stream",
     "text": [
      "    srno StudentName         DOB Course  Percentage\n",
      "0      1     Devarsh  12-09-2003  MSCIT          50\n",
      "1      2      Dhyani  01-05-2002    MBA          70\n",
      "2      3     Nirmeet  01-01-2003  MSCIT          60\n",
      "3      4        Nimu  01-02-2003    MBA          50\n",
      "4      5       Vishv  15-01-2000   BCOM          45\n",
      "5      6     DhyaniD  16-01-1903    NaN          30\n",
      "6      7     Devarsh  12-09-2003  MSCIT          50\n",
      "7      8      Dhyani  01-05-2002    MBA          70\n",
      "8      9     Nirmeet  01-01-2003  MSCIT          60\n",
      "9     10        Nimu  01-02-2003    MBA          50\n",
      "10    11       Vishv  15-01-2000   BCOM          45\n",
      "11    12     DhyaniD  16-01-1903    NaN          30\n"
     ]
    }
   ],
   "source": [
    "stuData=pd.read_csv('C:\\\\Users\\\\Devarsh Shah\\\\Desktop\\\\check.csv')\n",
    "print(stuData)"
   ]
  },
  {
   "cell_type": "code",
   "execution_count": 37,
   "id": "930b60f2-46b9-45ca-9537-29033b60969d",
   "metadata": {},
   "outputs": [
    {
     "name": "stdout",
     "output_type": "stream",
     "text": [
      "   srno StudentName         DOB Course  Percentage\n",
      "0     1     Devarsh  12-09-2003  MSCIT          50\n",
      "1     2      Dhyani  01-05-2002    MBA          70\n",
      "2     3     Nirmeet  01-01-2003  MSCIT          60\n",
      "3     4        Nimu  01-02-2003    MBA          50\n",
      "4     5       Vishv  15-01-2000   BCOM          45\n"
     ]
    }
   ],
   "source": [
    "print(stuData.head())"
   ]
  },
  {
   "cell_type": "code",
   "execution_count": 38,
   "id": "8b4f435d-2099-4c63-bd8b-7c9fa0e42014",
   "metadata": {},
   "outputs": [
    {
     "name": "stdout",
     "output_type": "stream",
     "text": [
      "    srno StudentName         DOB Course  Percentage\n",
      "7      8      Dhyani  01-05-2002    MBA          70\n",
      "8      9     Nirmeet  01-01-2003  MSCIT          60\n",
      "9     10        Nimu  01-02-2003    MBA          50\n",
      "10    11       Vishv  15-01-2000   BCOM          45\n",
      "11    12     DhyaniD  16-01-1903    NaN          30\n"
     ]
    }
   ],
   "source": [
    "print(stuData.tail())"
   ]
  },
  {
   "cell_type": "code",
   "execution_count": 39,
   "id": "ce99d1fb-6420-4533-b79d-cb5e193fa817",
   "metadata": {},
   "outputs": [
    {
     "name": "stdout",
     "output_type": "stream",
     "text": [
      "<class 'pandas.core.frame.DataFrame'>\n",
      "RangeIndex: 12 entries, 0 to 11\n",
      "Data columns (total 5 columns):\n",
      " #   Column       Non-Null Count  Dtype \n",
      "---  ------       --------------  ----- \n",
      " 0   srno         12 non-null     int64 \n",
      " 1   StudentName  12 non-null     object\n",
      " 2   DOB          12 non-null     object\n",
      " 3   Course       10 non-null     object\n",
      " 4   Percentage   12 non-null     int64 \n",
      "dtypes: int64(2), object(3)\n",
      "memory usage: 612.0+ bytes\n",
      "None\n"
     ]
    }
   ],
   "source": [
    "print(stuData.info())"
   ]
  },
  {
   "cell_type": "code",
   "execution_count": 40,
   "id": "dc45cc79-14bc-4f8a-90c3-6509caf4e0e9",
   "metadata": {},
   "outputs": [
    {
     "name": "stdout",
     "output_type": "stream",
     "text": [
      "    srno StudentName         DOB Course  Percentage\n",
      "4      5       Vishv  15-01-2000   BCOM          45\n",
      "9     10        Nimu  01-02-2003    MBA          50\n",
      "3      4        Nimu  01-02-2003    MBA          50\n",
      "11    12     DhyaniD  16-01-1903    NaN          30\n",
      "1      2      Dhyani  01-05-2002    MBA          70\n"
     ]
    }
   ],
   "source": [
    "print(stuData.sample(5))"
   ]
  },
  {
   "cell_type": "code",
   "execution_count": 41,
   "id": "073040e2-1449-4f25-a0f8-bb65a9dfb91a",
   "metadata": {},
   "outputs": [
    {
     "name": "stdout",
     "output_type": "stream",
     "text": [
      "    srno StudentName         DOB Course  Percentage\n",
      "0      1     Devarsh  12-09-2003  MSCIT          50\n",
      "1      2      Dhyani  01-05-2002    MBA          70\n",
      "2      3     Nirmeet  01-01-2003  MSCIT          60\n",
      "3      4        Nimu  01-02-2003    MBA          50\n",
      "4      5       Vishv  15-01-2000   BCOM          45\n",
      "5      6     DhyaniD  16-01-1903     30          30\n",
      "6      7     Devarsh  12-09-2003  MSCIT          50\n",
      "7      8      Dhyani  01-05-2002    MBA          70\n",
      "8      9     Nirmeet  01-01-2003  MSCIT          60\n",
      "9     10        Nimu  01-02-2003    MBA          50\n",
      "10    11       Vishv  15-01-2000   BCOM          45\n",
      "11    12     DhyaniD  16-01-1903     30          30\n"
     ]
    }
   ],
   "source": [
    "filledStud=stuData.fillna(30)\n",
    "print(filledStud)"
   ]
  },
  {
   "cell_type": "code",
   "execution_count": 42,
   "id": "d24ddd67-c184-4989-afb2-9431b406e63b",
   "metadata": {},
   "outputs": [
    {
     "name": "stdout",
     "output_type": "stream",
     "text": [
      "0     MSCIT\n",
      "1       MBA\n",
      "2     MSCIT\n",
      "3       MBA\n",
      "4      BCOM\n",
      "5       MCA\n",
      "6     MSCIT\n",
      "7       MBA\n",
      "8     MSCIT\n",
      "9       MBA\n",
      "10     BCOM\n",
      "11      MCA\n",
      "Name: Course, dtype: object\n"
     ]
    }
   ],
   "source": [
    "new=stuData[\"Course\"].fillna(\"MCA\")\n",
    "print(new)"
   ]
  },
  {
   "cell_type": "code",
   "execution_count": 43,
   "id": "f414cf1c-eb19-4d69-817b-87e9b778a7c4",
   "metadata": {},
   "outputs": [
    {
     "name": "stdout",
     "output_type": "stream",
     "text": [
      "    srno StudentName         DOB Course  Percentage\n",
      "0      1     Devarsh  12-09-2003  MSCIT          50\n",
      "1      2      Dhyani  01-05-2002    MBA          70\n",
      "2      3     Nirmeet  01-01-2003  MSCIT          60\n",
      "3      4        Nimu  01-02-2003    MBA          50\n",
      "4      5       Vishv  15-01-2000   BCOM          45\n",
      "5      6     DhyaniD  16-01-1903    NaN          30\n",
      "6      7     Devarsh  12-09-2003  MSCIT          50\n",
      "7      8      Dhyani  01-05-2002    MBA          70\n",
      "8      9     Nirmeet  01-01-2003  MSCIT          60\n",
      "9     10        Nimu  01-02-2003    MBA          50\n",
      "10    11       Vishv  15-01-2000   BCOM          45\n",
      "11    12     DhyaniD  16-01-1903    NaN          30\n"
     ]
    }
   ],
   "source": [
    "print(stuData)"
   ]
  },
  {
   "cell_type": "code",
   "execution_count": 44,
   "id": "f4ba34a1-76b9-4989-9c61-77049cf9b999",
   "metadata": {},
   "outputs": [
    {
     "name": "stdout",
     "output_type": "stream",
     "text": [
      "0     MSCIT\n",
      "1       MBA\n",
      "2     MSCIT\n",
      "3       MBA\n",
      "4      BCOM\n",
      "5       MCA\n",
      "6     MSCIT\n",
      "7       MBA\n",
      "8     MSCIT\n",
      "9       MBA\n",
      "10     BCOM\n",
      "11      MCA\n",
      "Name: Course, dtype: object\n"
     ]
    }
   ],
   "source": [
    "new=stuData[\"Course\"].fillna(\"MCA\")\n",
    "print(new)"
   ]
  },
  {
   "cell_type": "code",
   "execution_count": 47,
   "id": "67d761fd-102c-478a-870b-7b53e0f57d0e",
   "metadata": {},
   "outputs": [
    {
     "name": "stdout",
     "output_type": "stream",
     "text": [
      "    srno StudentName         DOB Course  Percentage\n",
      "0      1     Devarsh  12-09-2003  MSCIT          50\n",
      "1      2      Dhyani  01-05-2002    MBA          70\n",
      "2      3     Nirmeet  01-01-2003  MSCIT          60\n",
      "3      4        Nimu  01-02-2003    MBA          50\n",
      "4      5       Vishv  15-01-2000   BCOM          45\n",
      "5      6     DhyaniD  16-01-1903    MCA          30\n",
      "6      7     Devarsh  12-09-2003  MSCIT          50\n",
      "7      8      Dhyani  01-05-2002    MBA          70\n",
      "8      9     Nirmeet  01-01-2003  MSCIT          60\n",
      "9     10        Nimu  01-02-2003    MBA          50\n",
      "10    11       Vishv  15-01-2000   BCOM          45\n",
      "11    12     DhyaniD  16-01-1903    MCA          30\n"
     ]
    }
   ],
   "source": [
    "print(stuData)"
   ]
  },
  {
   "cell_type": "code",
   "execution_count": 46,
   "id": "466aa385-5d09-4288-afcb-c24cb653df37",
   "metadata": {},
   "outputs": [
    {
     "name": "stdout",
     "output_type": "stream",
     "text": [
      "None\n"
     ]
    }
   ],
   "source": [
    "new=stuData[\"Course\"].fillna(\"MCA\",inplace=True)\n",
    "print(new)"
   ]
  },
  {
   "cell_type": "code",
   "execution_count": 54,
   "id": "63c8b002-05ec-4862-8b21-65c4b4cbfbba",
   "metadata": {},
   "outputs": [
    {
     "name": "stdout",
     "output_type": "stream",
     "text": [
      "Mean: 50.833333333333336\n"
     ]
    }
   ],
   "source": [
    "mean=stuData[\"Percentage\"].mean()\n",
    "print(\"Mean:\",mean)"
   ]
  },
  {
   "cell_type": "code",
   "execution_count": 55,
   "id": "22cdc1d3-5dc0-4515-8feb-849692d596c0",
   "metadata": {},
   "outputs": [
    {
     "name": "stdout",
     "output_type": "stream",
     "text": [
      "Median: 50.0\n"
     ]
    }
   ],
   "source": [
    "median=stuData[\"Percentage\"].median()\n",
    "print(\"Median:\",median)"
   ]
  },
  {
   "cell_type": "code",
   "execution_count": 56,
   "id": "d65841b1-10c0-48a6-a233-5e03000318cb",
   "metadata": {},
   "outputs": [
    {
     "name": "stdout",
     "output_type": "stream",
     "text": [
      "Mode: 50\n"
     ]
    }
   ],
   "source": [
    "mode=stuData[\"Percentage\"].mode()\n",
    "print(\"Mode:\",mode[0])"
   ]
  },
  {
   "cell_type": "code",
   "execution_count": null,
   "id": "7777ee8c-2718-438d-8461-6f7b8cd888d4",
   "metadata": {},
   "outputs": [],
   "source": []
  }
 ],
 "metadata": {
  "kernelspec": {
   "display_name": "Python 3 (ipykernel)",
   "language": "python",
   "name": "python3"
  },
  "language_info": {
   "codemirror_mode": {
    "name": "ipython",
    "version": 3
   },
   "file_extension": ".py",
   "mimetype": "text/x-python",
   "name": "python",
   "nbconvert_exporter": "python",
   "pygments_lexer": "ipython3",
   "version": "3.11.4"
  }
 },
 "nbformat": 4,
 "nbformat_minor": 5
}
